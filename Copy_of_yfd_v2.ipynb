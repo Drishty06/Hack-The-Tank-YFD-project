{
  "cells": [
    {
      "cell_type": "markdown",
      "metadata": {
        "id": "view-in-github",
        "colab_type": "text"
      },
      "source": [
        "<a href=\"https://colab.research.google.com/github/Drishty06/Hack-The-Tank-YFD-project/blob/main/Copy_of_yfd_v2.ipynb\" target=\"_parent\"><img src=\"https://colab.research.google.com/assets/colab-badge.svg\" alt=\"Open In Colab\"/></a>"
      ]
    },
    {
      "cell_type": "code",
      "execution_count": null,
      "metadata": {
        "id": "mS2ZNa3F5iOR"
      },
      "outputs": [],
      "source": [
        " import warnings\n",
        " import os\n",
        " import shutil\n",
        " import glob\n"
      ]
    },
    {
      "cell_type": "markdown",
      "source": [
        "# Mounting the drive\n"
      ],
      "metadata": {
        "id": "N_EDdWKTx6eb"
      }
    },
    {
      "cell_type": "code",
      "execution_count": null,
      "metadata": {
        "colab": {
          "base_uri": "https://localhost:8080/"
        },
        "id": "PiKiK24CG3DO",
        "outputId": "e7c118bc-030d-40d6-b2ef-e78a68839df5"
      },
      "outputs": [
        {
          "output_type": "stream",
          "name": "stdout",
          "text": [
            "Mounted at /content/drive\n"
          ]
        }
      ],
      "source": [
        "from google.colab import drive\n",
        "drive.mount('/content/drive')"
      ]
    },
    {
      "cell_type": "markdown",
      "source": [
        "\n",
        "\n",
        "# class\n",
        "\n",
        "\n"
      ],
      "metadata": {
        "id": "Vo0QaO4Yx_zJ"
      }
    },
    {
      "cell_type": "code",
      "execution_count": null,
      "metadata": {
        "id": "EJViGdf06kQz"
      },
      "outputs": [],
      "source": [
        "CLASS = ['high',  'normal']"
      ]
    },
    {
      "cell_type": "markdown",
      "metadata": {
        "id": "xD-yFXZn-m4P"
      },
      "source": [
        "# model building"
      ]
    },
    {
      "cell_type": "code",
      "execution_count": null,
      "metadata": {
        "id": "UJub2lyY-mCx"
      },
      "outputs": [],
      "source": [
        "import numpy as np\n",
        "import matplotlib.pyplot as plt\n",
        "import pandas as pd\n",
        "import tensorflow as tf\n",
        "import os\n",
        "\n",
        "from keras.layers import Dense, Flatten\n",
        "from keras .models import Model\n",
        "from keras.applications.inception_v3 import InceptionV3, preprocess_input\n",
        "from keras.preprocessing.image import ImageDataGenerator\n",
        "import keras\n",
        "\n",
        " "
      ]
    },
    {
      "cell_type": "code",
      "execution_count": null,
      "metadata": {
        "id": "g_ck947M_S-5"
      },
      "outputs": [],
      "source": [
        "#base_model = InceptionV3(input_shape=(256, 256, 3), include_top= False)"
      ]
    },
    {
      "cell_type": "code",
      "execution_count": null,
      "metadata": {
        "id": "RptO4-DU_TQg"
      },
      "outputs": [],
      "source": [
        "# --------------------------\n",
        "from PIL import Image\n",
        "import os\n",
        "\n",
        "# Set the desired image size\n",
        "new_size = (256, 256)\n",
        "\n",
        "# # Loop over all image files in a directory and resize them\n",
        "# for filename in os.listdir('/content/drive/MyDrive/DATASET/flat'):\n",
        "#     if filename.endswith('.jpg') or filename.endswith('.png'): # Modify this condition based on the file extensions of your images\n",
        "#         # Open the image file using PIL\n",
        "#         img = Image.open(os.path.join('/content/drive/MyDrive/DATASET/flat', filename))\n",
        "        \n",
        "#         # Resize the image to the desired size\n",
        "#         img = img.resize(new_size)\n",
        "        \n",
        "#         # Save the resized image to a new file\n",
        "#         img.save(os.path.join('/content/drive/MyDrive/DATASET_RESIZED/flat', filename))\n",
        "\n",
        "for filename in os.listdir('/content/drive/MyDrive/DATASET/normal'):\n",
        "    if filename.endswith('.jpg') or filename.endswith('.png'): # Modify this condition based on the file extensions of your images\n",
        "        # Open the image file using PIL\n",
        "        img = Image.open(os.path.join('/content/drive/MyDrive/DATASET/normal', filename))\n",
        "        \n",
        "        # Resize the image to the desired size\n",
        "        img = img.resize(new_size)\n",
        "        #convert into rgb\n",
        "        img = img.convert('RGB')\n",
        "\n",
        "        # Save the resized image to a new file\n",
        "        img.save(os.path.join('/content/drive/MyDrive/DATASET_RESIZED/normal', filename))\n",
        "for filename in os.listdir('/content/drive/MyDrive/DATASET/high'):\n",
        "    if filename.endswith('.jpg') or filename.endswith('.png'): # Modify this condition based on the file extensions of your images\n",
        "        # Open the image file using PIL\n",
        "        img = Image.open(os.path.join('/content/drive/MyDrive/DATASET/high', filename))\n",
        "        \n",
        "        # Resize the image to the desired size\n",
        "        img = img.resize(new_size)\n",
        "\n",
        "        #convert into rgb\n",
        "        img = img.convert('RGB')\n",
        "        \n",
        "        # Save the resized image to a new file\n",
        "        img.save(os.path.join('/content/drive/MyDrive/DATASET_RESIZED/high', filename))\n"
      ]
    },
    {
      "cell_type": "code",
      "source": [
        "# contour\n",
        "\n",
        "import cv2\n",
        "from google.colab.patches import cv2_imshow\n",
        "import numpy as np\n",
        "\n",
        "# Load the input image\n",
        "img = cv2.imread('/content/high.jpg')\n",
        "# img = img.convert('RGB')\n",
        "\n",
        "# Convert the image to grayscale\n",
        "gray = cv2.cvtColor(img, cv2.COLOR_BGR2GRAY)\n",
        "\n",
        "# Threshold the image to get a binary mask of the foot\n",
        "ret, thresh = cv2.threshold(gray, 0, 255, cv2.THRESH_BINARY_INV + cv2.THRESH_OTSU)\n",
        "\n",
        "# Find the contours of the binary mask\n",
        "contours, hierarchy = cv2.findContours(thresh, cv2.RETR_TREE, cv2.CHAIN_APPROX_SIMPLE)\n",
        "cv2.drawContours(img, contours, -1, (0, 0, 255), 2)\n",
        "# Sort the contours by area in descending order\n",
        "contours = sorted(contours, key=cv2.contourArea, reverse=True)\n",
        "\n",
        "# Extract the largest contour which corresponds to the foot\n",
        "foot_contour = contours[0]\n",
        "\n",
        "# Get the bounding rectangle of the foot contour\n",
        "x, y, w, h = cv2.boundingRect(foot_contour)\n",
        "\n",
        "# Calculate the height of the arch as the height of the bounding rectangle\n",
        "arch_height = h\n",
        "cv2_imshow(img)\n",
        "cv2.waitKey(0)\n",
        "cv2.destroyAllWindows()"
      ],
      "metadata": {
        "colab": {
          "base_uri": "https://localhost:8080/",
          "height": 200
        },
        "id": "VlRi4lhgS9Ae",
        "outputId": "edda8fb6-acf0-4e94-e6b8-8dcc8b5959c7"
      },
      "execution_count": null,
      "outputs": [
        {
          "output_type": "display_data",
          "data": {
            "text/plain": [
              "<PIL.Image.Image image mode=RGB size=275x183 at 0x7FA486F62A00>"
            ],
            "image/png": "[encoded data removed]"
          },
          "metadata": {}
        }
      ]
    },
    {
      "cell_type": "code",
      "source": [
        "import pyheif\n",
        "from PIL import Image\n",
        "import os\n",
        "\n",
        "def heic_to_jpg(file_path):\n",
        "    # Open the HEIC file\n",
        "    heif_file = pyheif.read(file_path)\n",
        "\n",
        "    # Convert to PIL Image object\n",
        "    image = Image.frombytes(\n",
        "        heif_file.mode,\n",
        "        heif_file.size,\n",
        "        heif_file.data,\n",
        "        \"raw\",\n",
        "        heif_file.mode,\n",
        "        heif_file.stride,\n",
        "    )\n",
        "\n",
        "    # Save as JPG file with the same name\n",
        "    file_name = os.path.splitext(os.path.basename(file_path))[0]\n",
        "    new_file_path = os.path.join(os.path.dirname(file_path), file_name + \".jpg\")\n",
        "    image.save(new_file_path, \"JPEG\")\n",
        "    print(f\"{file_path} converted to {new_file_path}\")\n"
      ],
      "metadata": {
        "id": "LH40ztiDFUmq",
        "colab": {
          "base_uri": "https://localhost:8080/",
          "height": 373
        },
        "outputId": "f300d98b-4770-48da-c779-312273b0d50f"
      },
      "execution_count": null,
      "outputs": [
        {
          "output_type": "error",
          "ename": "ModuleNotFoundError",
          "evalue": "ignored",
          "traceback": [
            "\u001b[0;31m---------------------------------------------------------------------------\u001b[0m",
            "\u001b[0;31mModuleNotFoundError\u001b[0m                       Traceback (most recent call last)",
            "\u001b[0;32m<ipython-input-28-7aa10f6ff1ab>\u001b[0m in \u001b[0;36m<module>\u001b[0;34m\u001b[0m\n\u001b[0;32m----> 1\u001b[0;31m \u001b[0;32mimport\u001b[0m \u001b[0mpyheif\u001b[0m\u001b[0;34m\u001b[0m\u001b[0;34m\u001b[0m\u001b[0m\n\u001b[0m\u001b[1;32m      2\u001b[0m \u001b[0;32mfrom\u001b[0m \u001b[0mPIL\u001b[0m \u001b[0;32mimport\u001b[0m \u001b[0mImage\u001b[0m\u001b[0;34m\u001b[0m\u001b[0;34m\u001b[0m\u001b[0m\n\u001b[1;32m      3\u001b[0m \u001b[0;32mimport\u001b[0m \u001b[0mos\u001b[0m\u001b[0;34m\u001b[0m\u001b[0;34m\u001b[0m\u001b[0m\n\u001b[1;32m      4\u001b[0m \u001b[0;34m\u001b[0m\u001b[0m\n\u001b[1;32m      5\u001b[0m \u001b[0;32mdef\u001b[0m \u001b[0mheic_to_jpg\u001b[0m\u001b[0;34m(\u001b[0m\u001b[0mfile_path\u001b[0m\u001b[0;34m)\u001b[0m\u001b[0;34m:\u001b[0m\u001b[0;34m\u001b[0m\u001b[0;34m\u001b[0m\u001b[0m\n",
            "\u001b[0;31mModuleNotFoundError\u001b[0m: No module named 'pyheif'",
            "",
            "\u001b[0;31m---------------------------------------------------------------------------\u001b[0;32m\nNOTE: If your import is failing due to a missing package, you can\nmanually install dependencies using either !pip or !apt.\n\nTo view examples of installing some common dependencies, click the\n\"Open Examples\" button below.\n\u001b[0;31m---------------------------------------------------------------------------\u001b[0m\n"
          ],
          "errorDetails": {
            "actions": [
              {
                "action": "open_url",
                "actionText": "Open Examples",
                "url": "/notebooks/snippets/importing_libraries.ipynb"
              }
            ]
          }
        }
      ]
    },
    {
      "cell_type": "code",
      "source": [
        "pip install pyheif"
      ],
      "metadata": {
        "id": "fiOIIBJnF2OW"
      },
      "execution_count": null,
      "outputs": []
    },
    {
      "cell_type": "code",
      "execution_count": null,
      "metadata": {
        "colab": {
          "base_uri": "https://localhost:8080/"
        },
        "id": "jGC-ZxeBFydS",
        "outputId": "cc9b8c37-57f2-482c-c81e-ae3cbc3372ec"
      },
      "outputs": [
        {
          "output_type": "stream",
          "name": "stdout",
          "text": [
            "Model: \"sequential\"\n",
            "_________________________________________________________________\n",
            " Layer (type)                Output Shape              Param #   \n",
            "=================================================================\n",
            " conv2d (Conv2D)             (None, 254, 254, 32)      896       \n",
            "                                                                 \n",
            " max_pooling2d (MaxPooling2D  (None, 127, 127, 32)     0         \n",
            " )                                                               \n",
            "                                                                 \n",
            " conv2d_1 (Conv2D)           (None, 125, 125, 64)      18496     \n",
            "                                                                 \n",
            " max_pooling2d_1 (MaxPooling  (None, 62, 62, 64)       0         \n",
            " 2D)                                                             \n",
            "                                                                 \n",
            " flatten (Flatten)           (None, 246016)            0         \n",
            "                                                                 \n",
            " dense (Dense)               (None, 256)               62980352  \n",
            "                                                                 \n",
            " dense_1 (Dense)             (None, 1)                 257       \n",
            "                                                                 \n",
            "=================================================================\n",
            "Total params: 63,000,001\n",
            "Trainable params: 63,000,001\n",
            "Non-trainable params: 0\n",
            "_________________________________________________________________\n"
          ]
        }
      ],
      "source": [
        "from keras.models import Sequential\n",
        "from keras.layers import Conv2D, MaxPooling2D, Flatten, Dense\n",
        "\n",
        "# Define the model architecture\n",
        "model = Sequential()\n",
        "model.add(Conv2D(32, kernel_size=(3, 3), activation='relu', input_shape=(256, 256, 3)))\n",
        "model.add(MaxPooling2D(pool_size=(2, 2)))\n",
        "model.add(Conv2D(64, kernel_size=(3, 3), activation='relu'))\n",
        "model.add(MaxPooling2D(pool_size=(2, 2)))\n",
        "model.add(Flatten())\n",
        "model.add(Dense(256, activation='relu'))\n",
        "model.add(Dense(1, activation='softmax'))\n",
        "\n",
        "# Compile the model\n",
        "model.compile(loss='mean_squared_error', optimizer='adam')\n",
        "\n",
        "# Print the model summary\n",
        "model.summary()\n"
      ]
    },
    {
      "cell_type": "code",
      "execution_count": null,
      "metadata": {
        "colab": {
          "base_uri": "https://localhost:8080/"
        },
        "id": "xG4lSMLWWMfR",
        "outputId": "a6a8176c-b42f-40ec-e350-bba409f31aeb"
      },
      "outputs": [
        {
          "output_type": "stream",
          "name": "stdout",
          "text": [
            "Found 256 images belonging to 2 classes.\n",
            "Found 63 images belonging to 2 classes.\n",
            "{'high': 0, 'normal': 1}\n"
          ]
        }
      ],
      "source": [
        "from tensorflow.keras.preprocessing.image import ImageDataGenerator\n",
        "\n",
        "# Set up the ImageDataGenerator with data augmentation\n",
        "train_datagen = ImageDataGenerator(\n",
        "    rescale=1/255,\n",
        "    rotation_range=20,\n",
        "    width_shift_range=0.2,\n",
        "    height_shift_range=0.2,\n",
        "    shear_range=0.2,\n",
        "    zoom_range=0.2,\n",
        "    horizontal_flip=True,\n",
        "    validation_split=0.2)\n",
        "\n",
        "# Set up the training and validation data generators\n",
        "train_data = train_datagen.flow_from_directory(\n",
        "    directory='/content/drive/MyDrive/DATASET_RESIZED/',\n",
        "    target_size=(256, 256),\n",
        "    batch_size=32,\n",
        "    class_mode='binary',\n",
        "    subset='training')\n",
        "\n",
        "val_data = train_datagen.flow_from_directory(\n",
        "    directory='/content/drive/MyDrive/DATASET_RESIZED/',\n",
        "    target_size=(256, 256),\n",
        "    batch_size=32,\n",
        "    class_mode='binary',\n",
        "    subset='validation')\n",
        "\n",
        "#train_indices = {'normal': 0, 'high': 1}\n",
        "\n",
        "# Set the new class_indices attribute on the datagen object\n",
        "#train_data.class_indices = train_indices\n",
        "\n",
        "print(train_data.class_indices)\n"
      ]
    },
    {
      "cell_type": "code",
      "execution_count": null,
      "metadata": {
        "id": "j6rPB8RIP4ds"
      },
      "outputs": [],
      "source": [
        "model.compile(optimizer='adam', loss='binary_crossentropy', metrics=['accuracy'])\n"
      ]
    },
    {
      "cell_type": "code",
      "execution_count": null,
      "metadata": {
        "id": "QH4yR-JYTpQc",
        "colab": {
          "base_uri": "https://localhost:8080/",
          "height": 200
        },
        "outputId": "b6b70714-e78e-4319-92c9-7e96f10468a9"
      },
      "outputs": [
        {
          "output_type": "error",
          "ename": "NameError",
          "evalue": "ignored",
          "traceback": [
            "\u001b[0;31m---------------------------------------------------------------------------\u001b[0m",
            "\u001b[0;31mNameError\u001b[0m                                 Traceback (most recent call last)",
            "\u001b[0;32m<ipython-input-8-daddbfc0856d>\u001b[0m in \u001b[0;36m<module>\u001b[0;34m\u001b[0m\n\u001b[1;32m      1\u001b[0m \u001b[0;32mimport\u001b[0m \u001b[0mnumpy\u001b[0m \u001b[0;32mas\u001b[0m \u001b[0mnp\u001b[0m\u001b[0;34m\u001b[0m\u001b[0;34m\u001b[0m\u001b[0m\n\u001b[1;32m      2\u001b[0m \u001b[0;32mfrom\u001b[0m \u001b[0mmatplotlib\u001b[0m \u001b[0;32mimport\u001b[0m \u001b[0mpyplot\u001b[0m \u001b[0;32mas\u001b[0m \u001b[0mplt\u001b[0m\u001b[0;34m\u001b[0m\u001b[0;34m\u001b[0m\u001b[0m\n\u001b[0;32m----> 3\u001b[0;31m \u001b[0mdata\u001b[0m \u001b[0;34m=\u001b[0m \u001b[0mtf\u001b[0m\u001b[0;34m.\u001b[0m\u001b[0mkeras\u001b[0m\u001b[0;34m.\u001b[0m\u001b[0mutils\u001b[0m\u001b[0;34m.\u001b[0m\u001b[0mimage_dataset_from_directory\u001b[0m\u001b[0;34m(\u001b[0m\u001b[0;34m'/content/drive/MyDrive/DATASET_RESIZED/'\u001b[0m\u001b[0;34m)\u001b[0m\u001b[0;34m\u001b[0m\u001b[0;34m\u001b[0m\u001b[0m\n\u001b[0m",
            "\u001b[0;31mNameError\u001b[0m: name 'tf' is not defined"
          ]
        }
      ],
      "source": [
        "import numpy as np\n",
        "from matplotlib import pyplot as plt\n",
        "data = tf.keras.utils.image_dataset_from_directory('/content/drive/MyDrive/DATASET_RESIZED/')"
      ]
    },
    {
      "cell_type": "code",
      "execution_count": null,
      "metadata": {
        "colab": {
          "base_uri": "https://localhost:8080/"
        },
        "id": "smmXs-aiaJjQ",
        "outputId": "7ed52d58-59e6-4d1f-adcf-963ffb753dd3"
      },
      "outputs": [
        {
          "output_type": "stream",
          "name": "stdout",
          "text": [
            "<keras.callbacks.ModelCheckpoint object at 0x7fa496717c70>\n",
            "./best1_model.h5\n"
          ]
        }
      ],
      "source": [
        "from keras.callbacks import ModelCheckpoint\n",
        "\n",
        "# Define the file path for saving the model weights\n",
        "filepath = \"./best1_model.h5\"\n",
        "\n",
        "# Define the checkpoint callback to save the model weights\n",
        "checkpoint = ModelCheckpoint(filepath, monitor='accurary', verbose=1, save_best_only=False, mode='min')\n",
        "\n",
        "print(checkpoint);\n",
        "print(filepath)\n"
      ]
    },
    {
      "cell_type": "code",
      "execution_count": null,
      "metadata": {
        "id": "rZDPp3jDP6E2",
        "colab": {
          "base_uri": "https://localhost:8080/"
        },
        "outputId": "c826b5ee-0a28-4132-dbc8-2e354cfda620"
      },
      "outputs": [
        {
          "output_type": "stream",
          "name": "stderr",
          "text": [
            "/usr/local/lib/python3.9/dist-packages/tensorflow/python/client/session.py:1769: UserWarning: An interactive session is already active. This can cause out-of-memory errors in some cases. You must explicitly call `InteractiveSession.close()` to release resources held by the other session(s).\n",
            "  warnings.warn('An interactive session is already active. This can '\n"
          ]
        }
      ],
      "source": [
        "from tensorflow.compat.v1 import ConfigProto\n",
        "from tensorflow.compat.v1 import InteractiveSession\n",
        "\n",
        "config = ConfigProto()\n",
        "config.gpu_options.allow_growth = True\n",
        "session = InteractiveSession(config=config)"
      ]
    },
    {
      "cell_type": "code",
      "source": [
        "t_img,label=train_data.next()\n",
        "t_img.shape"
      ],
      "metadata": {
        "colab": {
          "base_uri": "https://localhost:8080/"
        },
        "id": "cp4N-2xpn9a-",
        "outputId": "cb21167f-6007-4186-8162-f353232e3d82"
      },
      "execution_count": null,
      "outputs": [
        {
          "output_type": "execute_result",
          "data": {
            "text/plain": [
              "(32, 256, 256, 3)"
            ]
          },
          "metadata": {},
          "execution_count": 13
        }
      ]
    },
    {
      "cell_type": "code",
      "execution_count": null,
      "metadata": {
        "colab": {
          "base_uri": "https://localhost:8080/"
        },
        "id": "Y4RemxhbVf2I",
        "outputId": "6fcfd270-90b2-4739-d65c-34fbb47118d7"
      },
      "outputs": [
        {
          "output_type": "stream",
          "name": "stdout",
          "text": [
            "Epoch 1/5\n",
            "8/8 [==============================] - ETA: 0s - loss: 3.2454 - accuracy: 0.6719\n",
            "Epoch 1: saving model to ./best1_model.h5\n",
            "8/8 [==============================] - 48s 6s/step - loss: 3.2454 - accuracy: 0.6719 - val_loss: 0.6591 - val_accuracy: 0.6667\n",
            "Epoch 2/5\n",
            "8/8 [==============================] - ETA: 0s - loss: 0.6508 - accuracy: 0.6719\n",
            "Epoch 2: saving model to ./best1_model.h5\n",
            "8/8 [==============================] - 47s 6s/step - loss: 0.6508 - accuracy: 0.6719 - val_loss: 0.6480 - val_accuracy: 0.6667\n",
            "Epoch 3/5\n",
            "8/8 [==============================] - ETA: 0s - loss: 0.6407 - accuracy: 0.6719\n",
            "Epoch 3: saving model to ./best1_model.h5\n",
            "8/8 [==============================] - 46s 6s/step - loss: 0.6407 - accuracy: 0.6719 - val_loss: 0.6330 - val_accuracy: 0.6667\n",
            "Epoch 4/5\n",
            "8/8 [==============================] - ETA: 0s - loss: 0.6472 - accuracy: 0.6719\n",
            "Epoch 4: saving model to ./best1_model.h5\n",
            "8/8 [==============================] - 46s 6s/step - loss: 0.6472 - accuracy: 0.6719 - val_loss: 0.6379 - val_accuracy: 0.6667\n",
            "Epoch 5/5\n",
            "8/8 [==============================] - ETA: 0s - loss: 0.6408 - accuracy: 0.6719\n",
            "Epoch 5: saving model to ./best1_model.h5\n",
            "8/8 [==============================] - 51s 7s/step - loss: 0.6408 - accuracy: 0.6719 - val_loss: 0.6400 - val_accuracy: 0.6667\n"
          ]
        }
      ],
      "source": [
        "history = model.fit(train_data,epochs=5,validation_data=val_data,callbacks=checkpoint)"
      ]
    },
    {
      "cell_type": "code",
      "source": [
        "from keras.models import load_model\n",
        "import numpy as np\n",
        "import keras.utils as image\n",
        "from keras.models import load_model\n",
        "# Load the model from a file\n",
        "model = load_model('/content/best1_model.h5')\n",
        "\n",
        "\n",
        "\n",
        "img = image.load_img('/content/high.jpg', target_size=(256, 256))\n",
        "img = img.convert('RGB')\n",
        "x = image.img_to_array(img)\n",
        "x = np.expand_dims(x, axis=0)\n",
        "x = x / 255.0  # normalize the pixel values\n",
        "print(x)\n",
        "# Make a prediction\n",
        "predictions = model.predict(x)\n",
        "print(predictions)\n",
        "# Print the predicted class and probability\n",
        "class_index = np.argmax(predictions)\n",
        "print(class_index)\n",
        "class_probability = predictions[0][class_index]\n",
        "print(f\"Predicted class: {class_index}, probability: {class_probability}\")\n"
      ],
      "metadata": {
        "id": "WWnayWmgq38Z",
        "colab": {
          "base_uri": "https://localhost:8080/"
        },
        "outputId": "93208a2e-61cc-45b6-8838-ece3585da94a"
      },
      "execution_count": null,
      "outputs": [
        {
          "output_type": "stream",
          "name": "stdout",
          "text": [
            "[[[[0.9647059  0.6431373  0.42352942]\n",
            "   [0.9647059  0.6431373  0.42352942]\n",
            "   [0.9607843  0.6392157  0.41960785]\n",
            "   ...\n",
            "   [0.22745098 0.05098039 0.07843138]\n",
            "   [0.23529412 0.05882353 0.08627451]\n",
            "   [0.22745098 0.05098039 0.07843138]]\n",
            "\n",
            "  [[0.8862745  0.5647059  0.34509805]\n",
            "   [0.8862745  0.5647059  0.34509805]\n",
            "   [0.8862745  0.5647059  0.34509805]\n",
            "   ...\n",
            "   [0.22352941 0.03921569 0.07058824]\n",
            "   [0.24705882 0.0627451  0.09411765]\n",
            "   [0.25882354 0.07450981 0.10588235]]\n",
            "\n",
            "  [[0.8862745  0.5647059  0.34509805]\n",
            "   [0.8862745  0.5647059  0.34509805]\n",
            "   [0.8862745  0.5647059  0.34509805]\n",
            "   ...\n",
            "   [0.22352941 0.03921569 0.07058824]\n",
            "   [0.24705882 0.0627451  0.09411765]\n",
            "   [0.25882354 0.07450981 0.10588235]]\n",
            "\n",
            "  ...\n",
            "\n",
            "  [[0.59607846 0.36078432 0.40784314]\n",
            "   [0.59607846 0.36078432 0.40784314]\n",
            "   [0.59607846 0.36078432 0.40784314]\n",
            "   ...\n",
            "   [0.45490196 0.20784314 0.28235295]\n",
            "   [0.45490196 0.20784314 0.28235295]\n",
            "   [0.45490196 0.20784314 0.28235295]]\n",
            "\n",
            "  [[0.59607846 0.36078432 0.40784314]\n",
            "   [0.59607846 0.36078432 0.40784314]\n",
            "   [0.59607846 0.36078432 0.40784314]\n",
            "   ...\n",
            "   [0.45490196 0.20784314 0.28235295]\n",
            "   [0.45490196 0.20784314 0.28235295]\n",
            "   [0.45490196 0.20784314 0.28235295]]\n",
            "\n",
            "  [[0.59607846 0.36078432 0.40784314]\n",
            "   [0.59607846 0.36078432 0.40784314]\n",
            "   [0.59607846 0.36078432 0.40784314]\n",
            "   ...\n",
            "   [0.45490196 0.20784314 0.2901961 ]\n",
            "   [0.45490196 0.20784314 0.2901961 ]\n",
            "   [0.45490196 0.20784314 0.2901961 ]]]]\n",
            "1/1 [==============================] - 0s 137ms/step\n",
            "[[1.]]\n",
            "0\n",
            "Predicted class: 0, probability: 1.0\n"
          ]
        }
      ]
    },
    {
      "cell_type": "code",
      "source": [
        "h=history.history\n",
        "h.keys()"
      ],
      "metadata": {
        "id": "x8-MWDZsrH_E",
        "colab": {
          "base_uri": "https://localhost:8080/"
        },
        "outputId": "238e65d1-df13-4e6e-b972-8cc77f16e99d"
      },
      "execution_count": null,
      "outputs": [
        {
          "output_type": "execute_result",
          "data": {
            "text/plain": [
              "dict_keys(['loss', 'accuracy', 'val_loss', 'val_accuracy'])"
            ]
          },
          "metadata": {},
          "execution_count": 37
        }
      ]
    },
    {
      "cell_type": "code",
      "source": [
        "# plt.plot(h['loss'])\n",
        "# plt.plot(h['accuracy'])\n",
        "# plt.show\n",
        "h['accuracy']"
      ],
      "metadata": {
        "id": "VzeywSH8rvW2"
      },
      "execution_count": null,
      "outputs": []
    },
    {
      "cell_type": "code",
      "source": [
        "import cv2\n",
        "import numpy as np\n",
        "\n",
        "def get_arch_height(image_file):\n",
        "    # Load the input image\n",
        "    img = cv2.imread(image_file)\n",
        "\n",
        "    # Convert the image to grayscale\n",
        "    gray = cv2.cvtColor(img, cv2.COLOR_BGR2GRAY)\n",
        "\n",
        "    # Threshold the image to get a binary mask of the foot\n",
        "    ret, thresh = cv2.threshold(gray, 0, 255, cv2.THRESH_BINARY_INV + cv2.THRESH_OTSU)\n",
        "\n",
        "    # Find the contours of the binary mask\n",
        "    contours, hierarchy = cv2.findContours(thresh, cv2.RETR_TREE, cv2.CHAIN_APPROX_SIMPLE)\n",
        "    cv2.drawContours(img, contours, -1, (0, 0, 255), 2)\n",
        "    # Sort the contours by area in descending order\n",
        "    contours = sorted(contours, key=cv2.contourArea, reverse=True)\n",
        "\n",
        "    if len(contours) == 0:\n",
        "        raise ValueError(\"No contours found in the image\")\n",
        "\n",
        "    # Extract the largest contour which corresponds to the foot\n",
        "    foot_contour = contours[0]\n",
        "\n",
        "    # Get the bounding rectangle of the foot contour\n",
        "    x, y, w, h = cv2.boundingRect(foot_contour)\n",
        "\n",
        "    # Calculate the height of the arch as the height of the bounding rectangle\n",
        "    arch_height = h\n",
        "    \n",
        "    return arch_height"
      ],
      "metadata": {
        "id": "5Z9OiMEfNRR0"
      },
      "execution_count": null,
      "outputs": []
    },
    {
      "cell_type": "code",
      "source": [
        "import cv2\n",
        "from google.colab.patches import cv2_imshow\n",
        "import numpy as np\n",
        "\n",
        "# Load the input image\n",
        "img = cv2.imread('/content/drive/MyDrive/Skin complextion/flat/c4.png')\n",
        "\n",
        "# Convert the image to grayscale\n",
        "gray = cv2.cvtColor(img, cv2.COLOR_BGR2GRAY)\n",
        "\n",
        "# Threshold the image to get a binary mask of the foot\n",
        "ret, thresh = cv2.threshold(gray, 0, 255, cv2.THRESH_BINARY_INV + cv2.THRESH_OTSU)\n",
        "\n",
        "# Find the contours of the binary mask\n",
        "contours, hierarchy = cv2.findContours(thresh, cv2.RETR_TREE, cv2.CHAIN_APPROX_SIMPLE)\n",
        "cv2.drawContours(img, contours, -1, (0, 0, 255), 2)\n",
        "# Sort the contours by area in descending order\n",
        "contours = sorted(contours, key=cv2.contourArea, reverse=True)\n",
        "\n",
        "# Extract the largest contour which corresponds to the foot\n",
        "foot_contour = contours[0]\n",
        "\n",
        "# Get the bounding rectangle of the foot contour\n",
        "x, y, w, h = cv2.boundingRect(foot_contour)\n",
        "\n",
        "# Calculate the height of the arch as the height of the bounding rectangle\n",
        "arch_height = h\n",
        "cv2_imshow(img)\n",
        "cv2.waitKey(0)\n",
        "cv2.destroyAllWindows()\n",
        "print(\"Arch height:\", arch_height)"
      ],
      "metadata": {
        "colab": {
          "base_uri": "https://localhost:8080/",
          "height": 243
        },
        "id": "SNqzcXEYc2Qm",
        "outputId": "4c2efcb9-5b48-4f11-9858-cc2002a9d946"
      },
      "execution_count": null,
      "outputs": [
        {
          "output_type": "error",
          "ename": "error",
          "evalue": "ignored",
          "traceback": [
            "\u001b[0;31m---------------------------------------------------------------------------\u001b[0m",
            "\u001b[0;31merror\u001b[0m                                     Traceback (most recent call last)",
            "\u001b[0;32m<ipython-input-1-232e6ecd56d8>\u001b[0m in \u001b[0;36m<module>\u001b[0;34m\u001b[0m\n\u001b[1;32m      7\u001b[0m \u001b[0;34m\u001b[0m\u001b[0m\n\u001b[1;32m      8\u001b[0m \u001b[0;31m# Convert the image to grayscale\u001b[0m\u001b[0;34m\u001b[0m\u001b[0;34m\u001b[0m\u001b[0m\n\u001b[0;32m----> 9\u001b[0;31m \u001b[0mgray\u001b[0m \u001b[0;34m=\u001b[0m \u001b[0mcv2\u001b[0m\u001b[0;34m.\u001b[0m\u001b[0mcvtColor\u001b[0m\u001b[0;34m(\u001b[0m\u001b[0mimg\u001b[0m\u001b[0;34m,\u001b[0m \u001b[0mcv2\u001b[0m\u001b[0;34m.\u001b[0m\u001b[0mCOLOR_BGR2GRAY\u001b[0m\u001b[0;34m)\u001b[0m\u001b[0;34m\u001b[0m\u001b[0;34m\u001b[0m\u001b[0m\n\u001b[0m\u001b[1;32m     10\u001b[0m \u001b[0;34m\u001b[0m\u001b[0m\n\u001b[1;32m     11\u001b[0m \u001b[0;31m# Threshold the image to get a binary mask of the foot\u001b[0m\u001b[0;34m\u001b[0m\u001b[0;34m\u001b[0m\u001b[0m\n",
            "\u001b[0;31merror\u001b[0m: OpenCV(4.7.0) /io/opencv/modules/imgproc/src/color.cpp:182: error: (-215:Assertion failed) !_src.empty() in function 'cvtColor'\n"
          ]
        }
      ]
    },
    {
      "cell_type": "code",
      "source": [
        "import cv2\n",
        "import numpy as np\n",
        "from google.colab.patches import cv2_imshow\n",
        "# Load the image\n",
        "img = cv2.imread('/content/drive/MyDrive/mast_images/flat/flat4-removebg-preview (1).png')\n",
        "\n",
        "# Convert the image to the RGB color space\n",
        "img = cv2.cvtColor(img, cv2.COLOR_BGR2RGB)\n",
        "\n",
        "# Convert the image to the HSV color space\n",
        "hsv = cv2.cvtColor(img, cv2.COLOR_RGB2HSV)\n",
        "\n",
        "# Define the skin color range\n",
        "lower_range = np.array([0, 20, 70], dtype=np.uint8)\n",
        "upper_range = np.array([20, 255, 255], dtype=np.uint8)\n",
        "\n",
        "# Create a binary mask of the skin areas\n",
        "mask = cv2.inRange(hsv, lower_range, upper_range)\n",
        "\n",
        "# Apply the mask to the original image\n",
        "result = cv2.bitwise_and(img, img, mask=mask)\n",
        "filename = 'result.jpg'\n",
        "  \n",
        "# Using cv2.imwrite() method\n",
        "# Saving the image\n",
        "cv2.imwrite(filename, img)\n",
        "# Show the result\n",
        "cv2_imshow(result)\n",
        "cv2.waitKey(0)\n",
        "cv2.destroyAllWindows()"
      ],
      "metadata": {
        "colab": {
          "base_uri": "https://localhost:8080/",
          "height": 212
        },
        "id": "a-zcUQ8BdSfu",
        "outputId": "233d7520-8e02-4485-ab02-45538d163f56"
      },
      "execution_count": null,
      "outputs": [
        {
          "output_type": "display_data",
          "data": {
            "text/plain": [
              "<PIL.Image.Image image mode=RGB size=259x195 at 0x7FA7CDE56F70>"
            ],
            "image/png": "[encoded data removed]"
          },
          "metadata": {}
        }
      ]
    },
    {
      "cell_type": "code",
      "source": [
        "import cv2\n",
        "import numpy as np\n",
        "from google.colab.patches import cv2_imshow\n",
        "def process_image(image_path):\n",
        "    # Load the image\n",
        "    img = cv2.imread(image_path)\n",
        "\n",
        "    # Convert the image to the RGB color space\n",
        "    img = cv2.cvtColor(img, cv2.COLOR_BGR2RGB)\n",
        "\n",
        "    # Convert the image to the HSV color space\n",
        "    hsv = cv2.cvtColor(img, cv2.COLOR_RGB2HSV)\n",
        "\n",
        "    # Define the skin color range\n",
        "    lower_range = np.array([0, 20, 70], dtype=np.uint8)\n",
        "    upper_range = np.array([20, 255, 255], dtype=np.uint8)\n",
        "\n",
        "    # Create a binary mask of the skin areas\n",
        "    mask = cv2.inRange(hsv, lower_range, upper_range)\n",
        "\n",
        "    # Apply the mask to the original image\n",
        "    result = cv2.bitwise_and(img, img, mask=mask)\n",
        "\n",
        "    # Save the result image\n",
        "    cv2.imwrite('result.jpg', result)\n",
        "\n",
        "    # Show the result\n",
        "    cv2_imshow(result)\n",
        "    cv2.waitKey(0)\n",
        "    cv2.destroyAllWindows()\n"
      ],
      "metadata": {
        "id": "HFuvc8sJAP4R"
      },
      "execution_count": null,
      "outputs": []
    },
    {
      "cell_type": "code",
      "source": [
        "get_arch_height('/content/drive/MyDrive/mast_images/flat/flat1.png')"
      ],
      "metadata": {
        "colab": {
          "base_uri": "https://localhost:8080/"
        },
        "id": "18P8qY9McVjn",
        "outputId": "8f680943-f617-4c45-ecc7-a682e9379bce"
      },
      "execution_count": null,
      "outputs": [
        {
          "output_type": "execute_result",
          "data": {
            "text/plain": [
              "172"
            ]
          },
          "metadata": {},
          "execution_count": 34
        }
      ]
    },
    {
      "cell_type": "code",
      "source": [
        "process_image('/content/drive/MyDrive/mast_images/flat/original4.jpeg')"
      ],
      "metadata": {
        "colab": {
          "base_uri": "https://localhost:8080/",
          "height": 212
        },
        "id": "pijUIHeVASAA",
        "outputId": "c1506730-0866-4767-d9ab-e9913d3d1188"
      },
      "execution_count": null,
      "outputs": [
        {
          "output_type": "display_data",
          "data": {
            "text/plain": [
              "<PIL.Image.Image image mode=RGB size=259x195 at 0x7FA7CC2681F0>"
            ],
            "image/png": "[encoded data removed]"
          },
          "metadata": {}
        }
      ]
    },
    {
      "cell_type": "code",
      "source": [
        "import cv2\n",
        "import numpy as np\n",
        "import glob\n",
        "\n",
        "def process_image_folder(file_path):\n",
        "    # Load the image\n",
        "    img = cv2.imread(file_path)\n",
        "\n",
        "    # Convert the image to the RGB color space\n",
        "    img = cv2.cvtColor(img, cv2.COLOR_BGR2RGB)\n",
        "\n",
        "    # Convert the image to the HSV color space\n",
        "    hsv = cv2.cvtColor(img, cv2.COLOR_RGB2HSV)\n",
        "\n",
        "    # Define the skin color range\n",
        "    lower_range = np.array([0, 20, 70], dtype=np.uint8)\n",
        "    upper_range = np.array([20, 255, 255], dtype=np.uint8)\n",
        "\n",
        "    # Create a binary mask of the skin areas\n",
        "    mask = cv2.inRange(hsv, lower_range, upper_range)\n",
        "\n",
        "    # Apply the mask to the original image\n",
        "    result = cv2.bitwise_and(img, img, mask=mask)\n",
        "\n",
        "    # Save the result image\n",
        "    file_name = file_path.split(\"/\")[-1]\n",
        "    result_path = \"/content/drive/MyDrive/Skin complextion/high/\" + file_name\n",
        "    cv2.imwrite(result_path, result)\n",
        "\n",
        "# Get a list of all image files in the folder\n",
        "image_files = glob.glob(\"/content/drive/MyDrive/mast_images/high/*.jpg\") + glob.glob(\"/content/drive/MyDrive/mast_images/high/*.jpeg\") + glob.glob(\"/content/drive/MyDrive/mast_images/high/*.png\")\n",
        "\n",
        "# Process each image file\n",
        "for file_path in image_files:\n",
        "    print(file_path)\n",
        "    process_image_folder(file_path)"
      ],
      "metadata": {
        "colab": {
          "base_uri": "https://localhost:8080/"
        },
        "id": "8R_Fdsd4BGMz",
        "outputId": "07e41f31-17cd-4d09-f9d1-d02cd3fd9ef3"
      },
      "execution_count": null,
      "outputs": [
        {
          "output_type": "stream",
          "name": "stdout",
          "text": [
            "/content/drive/MyDrive/mast_images/high/high-removebg-preview.png\n",
            "/content/drive/MyDrive/mast_images/high/high2-removebg-preview (1).png\n",
            "/content/drive/MyDrive/mast_images/high/high4-removebg-preview (1).png\n",
            "/content/drive/MyDrive/mast_images/high/high5-removebg-preview.png\n"
          ]
        }
      ]
    },
    {
      "cell_type": "code",
      "source": [
        "import os\n",
        "import cv2\n",
        "import numpy as np\n",
        "\n",
        "def contour(input_folder, output_folder):\n",
        "    # Create the output folder if it doesn't exist\n",
        "    if not os.path.exists(output_folder):\n",
        "        os.makedirs(output_folder)\n",
        "    \n",
        "    # Loop over all files in the input folder\n",
        "    for filename in os.listdir(input_folder):\n",
        "        # Load the input image\n",
        "        img = cv2.imread(os.path.join(input_folder, filename))\n",
        "\n",
        "        # Convert the image to grayscale\n",
        "        gray = cv2.cvtColor(img, cv2.COLOR_BGR2GRAY)\n",
        "\n",
        "        # Threshold the image to get a binary mask of the foot\n",
        "        ret, thresh = cv2.threshold(gray, 0, 255, cv2.THRESH_BINARY_INV + cv2.THRESH_OTSU)\n",
        "\n",
        "        # Find the contours of the binary mask\n",
        "        contours, hierarchy = cv2.findContours(thresh, cv2.RETR_TREE, cv2.CHAIN_APPROX_SIMPLE)\n",
        "        cv2.drawContours(img, contours, -1, (0, 0, 255), 2)\n",
        "\n",
        "        # Sort the contours by area in descending order\n",
        "        contours = sorted(contours, key=cv2.contourArea, reverse=True)\n",
        "\n",
        "        # Extract the largest contour which corresponds to the foot\n",
        "        foot_contour = contours[0]\n",
        "\n",
        "        # Get the bounding rectangle of the foot contour\n",
        "        x, y, w, h = cv2.boundingRect(foot_contour)\n",
        "\n",
        "        # Calculate the height of the arch as the height of the bounding rectangle\n",
        "        arch_height = h\n",
        "\n",
        "        # Save the processed image to the output folder\n",
        "        output_path = os.path.join(output_folder, filename)\n",
        "        cv2.imwrite(output_path, img)\n",
        "\n",
        "        print(\"Processed image\", filename, \"with arch height\", arch_height)\n",
        "\n",
        "contour(\"/content/drive/MyDrive/Skin complextion/high/\",\"/content/drive/MyDrive/mast_images_contour/high/\")"
      ],
      "metadata": {
        "colab": {
          "base_uri": "https://localhost:8080/",
          "height": 425
        },
        "id": "3iQZ1yKvBYpp",
        "outputId": "7f42b1f7-ff8a-419b-eef8-1b4df0f002ce"
      },
      "execution_count": null,
      "outputs": [
        {
          "output_type": "stream",
          "name": "stdout",
          "text": [
            "Processed image high-removebg-preview.png with arch height 250\n",
            "Processed image high2-removebg-preview (1).png with arch height 280\n",
            "Processed image high4-removebg-preview (1).png with arch height 159\n",
            "Processed image high5-removebg-preview.png with arch height 134\n"
          ]
        },
        {
          "output_type": "error",
          "ename": "error",
          "evalue": "ignored",
          "traceback": [
            "\u001b[0;31m---------------------------------------------------------------------------\u001b[0m",
            "\u001b[0;31merror\u001b[0m                                     Traceback (most recent call last)",
            "\u001b[0;32m<ipython-input-58-76ca64cdf876>\u001b[0m in \u001b[0;36m<module>\u001b[0;34m\u001b[0m\n\u001b[1;32m     41\u001b[0m         \u001b[0mprint\u001b[0m\u001b[0;34m(\u001b[0m\u001b[0;34m\"Processed image\"\u001b[0m\u001b[0;34m,\u001b[0m \u001b[0mfilename\u001b[0m\u001b[0;34m,\u001b[0m \u001b[0;34m\"with arch height\"\u001b[0m\u001b[0;34m,\u001b[0m \u001b[0march_height\u001b[0m\u001b[0;34m)\u001b[0m\u001b[0;34m\u001b[0m\u001b[0;34m\u001b[0m\u001b[0m\n\u001b[1;32m     42\u001b[0m \u001b[0;34m\u001b[0m\u001b[0m\n\u001b[0;32m---> 43\u001b[0;31m \u001b[0mcontour\u001b[0m\u001b[0;34m(\u001b[0m\u001b[0;34m\"/content/drive/MyDrive/Skin complextion/high/\"\u001b[0m\u001b[0;34m,\u001b[0m\u001b[0;34m\"/content/drive/MyDrive/mast_images_contour/high/\"\u001b[0m\u001b[0;34m)\u001b[0m\u001b[0;34m\u001b[0m\u001b[0;34m\u001b[0m\u001b[0m\n\u001b[0m",
            "\u001b[0;32m<ipython-input-58-76ca64cdf876>\u001b[0m in \u001b[0;36mcontour\u001b[0;34m(input_folder, output_folder)\u001b[0m\n\u001b[1;32m     14\u001b[0m \u001b[0;34m\u001b[0m\u001b[0m\n\u001b[1;32m     15\u001b[0m         \u001b[0;31m# Convert the image to grayscale\u001b[0m\u001b[0;34m\u001b[0m\u001b[0;34m\u001b[0m\u001b[0m\n\u001b[0;32m---> 16\u001b[0;31m         \u001b[0mgray\u001b[0m \u001b[0;34m=\u001b[0m \u001b[0mcv2\u001b[0m\u001b[0;34m.\u001b[0m\u001b[0mcvtColor\u001b[0m\u001b[0;34m(\u001b[0m\u001b[0mimg\u001b[0m\u001b[0;34m,\u001b[0m \u001b[0mcv2\u001b[0m\u001b[0;34m.\u001b[0m\u001b[0mCOLOR_BGR2GRAY\u001b[0m\u001b[0;34m)\u001b[0m\u001b[0;34m\u001b[0m\u001b[0;34m\u001b[0m\u001b[0m\n\u001b[0m\u001b[1;32m     17\u001b[0m \u001b[0;34m\u001b[0m\u001b[0m\n\u001b[1;32m     18\u001b[0m         \u001b[0;31m# Threshold the image to get a binary mask of the foot\u001b[0m\u001b[0;34m\u001b[0m\u001b[0;34m\u001b[0m\u001b[0m\n",
            "\u001b[0;31merror\u001b[0m: OpenCV(4.7.0) /io/opencv/modules/imgproc/src/color.cpp:182: error: (-215:Assertion failed) !_src.empty() in function 'cvtColor'\n"
          ]
        }
      ]
    },
    {
      "cell_type": "code",
      "source": [
        "import cv2\n",
        "from google.colab.patches import cv2_imshow\n",
        "import numpy as np\n",
        "\n",
        "# Load the input image\n",
        "img = cv2.imread('/content/drive/MyDrive/Skin complextion/flat/c4.png')\n",
        "\n",
        "# Convert the image to grayscale\n",
        "gray = cv2.cvtColor(img, cv2.COLOR_BGR2GRAY)\n",
        "\n",
        "# Threshold the image to get a binary mask of the foot\n",
        "ret, thresh = cv2.threshold(gray, 0, 255, cv2.THRESH_BINARY_INV + cv2.THRESH_OTSU)\n",
        "\n",
        "# Find the contours of the binary mask\n",
        "contours, hierarchy = cv2.findContours(thresh, cv2.RETR_TREE, cv2.CHAIN_APPROX_SIMPLE)\n",
        "cv2.drawContours(img, contours, -1, (0, 0, 255), 2)\n",
        "# Sort the contours by area in descending order\n",
        "contours = sorted(contours, key=cv2.contourArea, reverse=True)\n",
        "\n",
        "# Extract the largest contour which corresponds to the foot\n",
        "foot_contour = contours[0]\n",
        "\n",
        "_, thresh = cv2.threshold(img, 150, 255, cv2.THRESH_BINARY)\n",
        "\n",
        "# Find the contour with the largest area\n",
        "contours, heirarchy = cv2.findContours(thresh, cv2.RETR_EXTERNAL, cv2.CHAIN_APPROX_SIMPLE)\n",
        "max_contour = max(contours, key=cv2.contourArea)\n",
        "\n",
        "# Find the baseline of the foot by taking the lowest point in the contour\n",
        "baseline = tuple(max_contour[max_contour[:, :, 1].argmax()][0])\n",
        "\n",
        "# Calculate the arch height by finding the maximum distance from the baseline to the contour\n",
        "arch_height = 0\n",
        "for point in max_contour:\n",
        "    distance = abs(baseline[1] - point[0][1])\n",
        "    if distance > arch_height:\n",
        "        arch_height = distance\n",
        "\n",
        "# Display the arch height\n",
        "print(\"The arch height is:\", arch_height)"
      ],
      "metadata": {
        "colab": {
          "base_uri": "https://localhost:8080/",
          "height": 304
        },
        "id": "CVZIxfEKD6NH",
        "outputId": "4e7196f9-6c6e-40bf-8b29-91dd35a93d2d"
      },
      "execution_count": null,
      "outputs": [
        {
          "output_type": "error",
          "ename": "error",
          "evalue": "ignored",
          "traceback": [
            "\u001b[0;31m---------------------------------------------------------------------------\u001b[0m",
            "\u001b[0;31merror\u001b[0m                                     Traceback (most recent call last)",
            "\u001b[0;32m<ipython-input-41-a91e24092061>\u001b[0m in \u001b[0;36m<module>\u001b[0;34m\u001b[0m\n\u001b[1;32m     24\u001b[0m \u001b[0;34m\u001b[0m\u001b[0m\n\u001b[1;32m     25\u001b[0m \u001b[0;31m# Find the contour with the largest area\u001b[0m\u001b[0;34m\u001b[0m\u001b[0;34m\u001b[0m\u001b[0m\n\u001b[0;32m---> 26\u001b[0;31m \u001b[0mcontours\u001b[0m\u001b[0;34m,\u001b[0m \u001b[0m_\u001b[0m \u001b[0;34m=\u001b[0m \u001b[0mcv2\u001b[0m\u001b[0;34m.\u001b[0m\u001b[0mfindContours\u001b[0m\u001b[0;34m(\u001b[0m\u001b[0mthresh\u001b[0m\u001b[0;34m,\u001b[0m \u001b[0mcv2\u001b[0m\u001b[0;34m.\u001b[0m\u001b[0mRETR_EXTERNAL\u001b[0m\u001b[0;34m,\u001b[0m \u001b[0mcv2\u001b[0m\u001b[0;34m.\u001b[0m\u001b[0mCHAIN_APPROX_SIMPLE\u001b[0m\u001b[0;34m)\u001b[0m\u001b[0;34m\u001b[0m\u001b[0;34m\u001b[0m\u001b[0m\n\u001b[0m\u001b[1;32m     27\u001b[0m \u001b[0mmax_contour\u001b[0m \u001b[0;34m=\u001b[0m \u001b[0mmax\u001b[0m\u001b[0;34m(\u001b[0m\u001b[0mcontours\u001b[0m\u001b[0;34m,\u001b[0m \u001b[0mkey\u001b[0m\u001b[0;34m=\u001b[0m\u001b[0mcv2\u001b[0m\u001b[0;34m.\u001b[0m\u001b[0mcontourArea\u001b[0m\u001b[0;34m)\u001b[0m\u001b[0;34m\u001b[0m\u001b[0;34m\u001b[0m\u001b[0m\n\u001b[1;32m     28\u001b[0m \u001b[0;34m\u001b[0m\u001b[0m\n",
            "\u001b[0;31merror\u001b[0m: OpenCV(4.7.0) /io/opencv/modules/imgproc/src/contours.cpp:195: error: (-210:Unsupported format or combination of formats) [Start]FindContours supports only CV_8UC1 images when mode != CV_RETR_FLOODFILL otherwise supports CV_32SC1 images only in function 'cvStartFindContours_Impl'\n"
          ]
        }
      ]
    }
  ],
  "metadata": {
    "accelerator": "GPU",
    "colab": {
      "provenance": [],
      "mount_file_id": "1b0aLKXRM3fNuXdYn7oG95GqcjmpRuJ2V",
      "authorship_tag": "ABX9TyME8uZKGJ2TDtz+Ch8+Z0QM",
      "include_colab_link": true
    },
    "gpuClass": "standard",
    "kernelspec": {
      "display_name": "Python 3",
      "name": "python3"
    },
    "language_info": {
      "name": "python"
    }
  },
  "nbformat": 4,
  "nbformat_minor": 0
}